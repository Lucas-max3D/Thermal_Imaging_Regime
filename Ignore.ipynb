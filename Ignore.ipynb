{
 "cells": [
  {
   "cell_type": "code",
   "execution_count": 1,
   "id": "1f97ee1c",
   "metadata": {},
   "outputs": [
    {
     "data": {
      "text/markdown": [
       "✅ Successfully created/updated .gitignore at: /home/juls/Desktop/Thermal_Imaging_Regime/.gitignore"
      ],
      "text/plain": [
       "<IPython.core.display.Markdown object>"
      ]
     },
     "metadata": {},
     "output_type": "display_data"
    },
    {
     "data": {
      "text/markdown": [
       "**Current .gitignore content:**"
      ],
      "text/plain": [
       "<IPython.core.display.Markdown object>"
      ]
     },
     "metadata": {},
     "output_type": "display_data"
    },
    {
     "data": {
      "text/markdown": [
       "```\n",
       "\n",
       "*.cihx\n",
       "*.pkl\n",
       "*.tif\n",
       ".ipynb_checkpoints/\n",
       "```"
      ],
      "text/plain": [
       "<IPython.core.display.Markdown object>"
      ]
     },
     "metadata": {},
     "output_type": "display_data"
    }
   ],
   "source": [
    "import os\n",
    "from pathlib import Path\n",
    "from IPython.display import display, Markdown\n",
    "\n",
    "def create_gitignore(extensions=None, file_path=None):\n",
    "    \"\"\"\n",
    "    Create a .gitignore file with specified extensions\n",
    "    \n",
    "    Parameters:\n",
    "    extensions (list): List of file extensions to ignore (without the dot)\n",
    "    file_path (str): Path where to create the .gitignore file\n",
    "    \n",
    "    Returns:\n",
    "    None\n",
    "    \"\"\"\n",
    "    if extensions is None:\n",
    "        extensions = ['tif', 'cihx', 'pkl']\n",
    "    \n",
    "    # Use current directory if no path specified\n",
    "    if file_path is None:\n",
    "        file_path = os.getcwd()\n",
    "    \n",
    "    gitignore_path = Path(file_path) / '.gitignore'\n",
    "    \n",
    "    try:\n",
    "        # Read existing .gitignore if it exists\n",
    "        existing_content = set()\n",
    "        if gitignore_path.exists():\n",
    "            with open(gitignore_path, 'r') as f:\n",
    "                existing_content = set(f.read().splitlines())\n",
    "        \n",
    "        # Add new extensions\n",
    "        new_content = existing_content.union({f'*.{ext}' for ext in extensions})\n",
    "        \n",
    "        # Write to .gitignore\n",
    "        with open(gitignore_path, 'w') as f:\n",
    "            f.write('\\n'.join(sorted(new_content)))\n",
    "            f.write('\\n')  # Add final newline\n",
    "        \n",
    "        display(Markdown(f\"Successfully created/updated .gitignore at: {gitignore_path}\"))\n",
    "        display(Markdown(\"**Current .gitignore content:**\"))\n",
    "        display(Markdown(f\"```\\n{open(gitignore_path).read()}```\"))\n",
    "        \n",
    "    except Exception as e:\n",
    "        display(Markdown(f\"Error creating .gitignore: {str(e)}\"))\n",
    "\n",
    "# Create .gitignore with specified extensions\n",
    "create_gitignore()"
   ]
  },
  {
   "cell_type": "code",
   "execution_count": null,
   "id": "299dc689",
   "metadata": {},
   "outputs": [],
   "source": []
  }
 ],
 "metadata": {
  "kernelspec": {
   "display_name": "Python (myenv)",
   "language": "python",
   "name": "myenv"
  },
  "language_info": {
   "codemirror_mode": {
    "name": "ipython",
    "version": 3
   },
   "file_extension": ".py",
   "mimetype": "text/x-python",
   "name": "python",
   "nbconvert_exporter": "python",
   "pygments_lexer": "ipython3",
   "version": "3.10.12"
  }
 },
 "nbformat": 4,
 "nbformat_minor": 5
}
